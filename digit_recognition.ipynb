{
 "cells": [
  {
   "cell_type": "code",
   "execution_count": 1,
   "metadata": {},
   "outputs": [],
   "source": [
    "# imports for array-handling and plotting\n",
    "import numpy as np\n",
    "import matplotlib\n",
    "#matplotlib.use('agg')\n",
    "import matplotlib.pyplot as plt\n",
    "\n",
    "# let's keep our keras backend tensorflow quiet\n",
    "import os\n",
    "os.environ['TF_CPP_MIN_LOG_LEVEL']='3'\n",
    "# for testing on CPU\n",
    "#os.environ['CUDA_VISIBLE_DEVICES'] = ''\n",
    "\n",
    "# keras imports for the dataset and building our neural network\n",
    "from keras.datasets import mnist\n",
    "from keras.models import Sequential, load_model\n",
    "from keras.layers.core import Dense, Dropout, Activation\n",
    "from keras.utils import np_utils"
   ]
  },
  {
   "cell_type": "code",
   "execution_count": 2,
   "metadata": {},
   "outputs": [],
   "source": [
    "(X_train, y_train), (X_test, y_test) = mnist.load_data()"
   ]
  },
  {
   "cell_type": "code",
   "execution_count": 4,
   "metadata": {},
   "outputs": [
    {
     "name": "stderr",
     "output_type": "stream",
     "text": [
      "C:\\Users\\User\\AppData\\Local\\Temp\\ipykernel_16928\\4044750817.py:9: UserWarning: Matplotlib is currently using module://matplotlib_inline.backend_inline, which is a non-GUI backend, so cannot show the figure.\n",
      "  fig.show()\n"
     ]
    },
    {
     "data": {
      "image/png": "[encoded data removed]",
      "text/plain": [
       "<Figure size 432x288 with 9 Axes>"
      ]
     },
     "metadata": {},
     "output_type": "display_data"
    }
   ],
   "source": [
    "fig = plt.figure()\n",
    "for i in range(9):\n",
    "  plt.subplot(3,3,i+1)\n",
    "  plt.tight_layout()\n",
    "  plt.imshow(X_train[i], cmap='gray', interpolation='none')\n",
    "  plt.title(\"Digit: {}\".format(y_train[i]), color = 'white')\n",
    "  plt.xticks([])\n",
    "  plt.yticks([])\n",
    "fig.show()"
   ]
  },
  {
   "cell_type": "code",
   "execution_count": 5,
   "metadata": {},
   "outputs": [
    {
     "name": "stdout",
     "output_type": "stream",
     "text": [
      "X_train shape (60000, 28, 28)\n",
      "y_train shape (60000,)\n",
      "X_test shape (10000, 28, 28)\n",
      "y_test shape (10000,)\n",
      "Train matrix shape (60000, 784)\n",
      "Test matrix shape (10000, 784)\n"
     ]
    }
   ],
   "source": [
    "# let's print the shape before we reshape and normalize\n",
    "print(\"X_train shape\", X_train.shape)\n",
    "print(\"y_train shape\", y_train.shape)\n",
    "print(\"X_test shape\", X_test.shape)\n",
    "print(\"y_test shape\", y_test.shape)\n",
    "\n",
    "# building the input vector from the 28x28 pixels\n",
    "X_train = X_train.reshape(60000, 784)\n",
    "X_test = X_test.reshape(10000, 784)\n",
    "X_train = X_train.astype('float32')\n",
    "X_test = X_test.astype('float32')\n",
    "\n",
    "# normalizing the data to help with the training\n",
    "X_train /= 255\n",
    "X_test /= 255\n",
    "\n",
    "# print the final input shape ready for training\n",
    "print(\"Train matrix shape\", X_train.shape)\n",
    "print(\"Test matrix shape\", X_test.shape)"
   ]
  },
  {
   "cell_type": "code",
   "execution_count": 6,
   "metadata": {},
   "outputs": [
    {
     "name": "stdout",
     "output_type": "stream",
     "text": [
      "Shape before one-hot encoding:  (60000,)\n",
      "Shape after one-hot encoding:  (60000, 10)\n"
     ]
    }
   ],
   "source": [
    "n_classes = 10\n",
    "print(\"Shape before one-hot encoding: \", y_train.shape)\n",
    "Y_train = np_utils.to_categorical(y_train, n_classes)\n",
    "Y_test = np_utils.to_categorical(y_test, n_classes)\n",
    "print(\"Shape after one-hot encoding: \", Y_train.shape)"
   ]
  },
  {
   "cell_type": "code",
   "execution_count": 7,
   "metadata": {},
   "outputs": [],
   "source": [
    "# building a linear stack of layers with the sequential model\n",
    "model = Sequential()\n",
    "model.add(Dense(512, input_shape=(784,)))\n",
    "model.add(Activation('relu'))                            \n",
    "model.add(Dropout(0.2))\n",
    "\n",
    "model.add(Dense(512))\n",
    "model.add(Activation('relu'))\n",
    "model.add(Dropout(0.2))\n",
    "\n",
    "model.add(Dense(10))\n",
    "model.add(Activation('softmax'))"
   ]
  },
  {
   "cell_type": "code",
   "execution_count": 8,
   "metadata": {},
   "outputs": [],
   "source": [
    "model.compile(loss='categorical_crossentropy', metrics=['accuracy'], optimizer='adam')"
   ]
  },
  {
   "cell_type": "code",
   "execution_count": 9,
   "metadata": {},
   "outputs": [
    {
     "name": "stdout",
     "output_type": "stream",
     "text": [
      "Epoch 1/20\n",
      "469/469 - 7s - loss: 0.2487 - accuracy: 0.9249 - val_loss: 0.1004 - val_accuracy: 0.9673 - 7s/epoch - 14ms/step\n",
      "Epoch 2/20\n",
      "469/469 - 5s - loss: 0.1001 - accuracy: 0.9693 - val_loss: 0.0797 - val_accuracy: 0.9761 - 5s/epoch - 11ms/step\n",
      "Epoch 3/20\n",
      "469/469 - 5s - loss: 0.0732 - accuracy: 0.9769 - val_loss: 0.0710 - val_accuracy: 0.9772 - 5s/epoch - 11ms/step\n",
      "Epoch 4/20\n",
      "469/469 - 6s - loss: 0.0547 - accuracy: 0.9829 - val_loss: 0.0689 - val_accuracy: 0.9783 - 6s/epoch - 13ms/step\n",
      "Epoch 5/20\n",
      "469/469 - 7s - loss: 0.0466 - accuracy: 0.9853 - val_loss: 0.0704 - val_accuracy: 0.9782 - 7s/epoch - 15ms/step\n",
      "Epoch 6/20\n",
      "469/469 - 5s - loss: 0.0404 - accuracy: 0.9868 - val_loss: 0.0715 - val_accuracy: 0.9789 - 5s/epoch - 11ms/step\n",
      "Epoch 7/20\n",
      "469/469 - 6s - loss: 0.0332 - accuracy: 0.9893 - val_loss: 0.0623 - val_accuracy: 0.9819 - 6s/epoch - 13ms/step\n",
      "Epoch 8/20\n",
      "469/469 - 7s - loss: 0.0297 - accuracy: 0.9896 - val_loss: 0.0649 - val_accuracy: 0.9813 - 7s/epoch - 14ms/step\n",
      "Epoch 9/20\n",
      "469/469 - 6s - loss: 0.0278 - accuracy: 0.9905 - val_loss: 0.0729 - val_accuracy: 0.9813 - 6s/epoch - 13ms/step\n",
      "Epoch 10/20\n",
      "469/469 - 5s - loss: 0.0266 - accuracy: 0.9912 - val_loss: 0.0710 - val_accuracy: 0.9806 - 5s/epoch - 11ms/step\n",
      "Epoch 11/20\n",
      "469/469 - 7s - loss: 0.0240 - accuracy: 0.9918 - val_loss: 0.0757 - val_accuracy: 0.9820 - 7s/epoch - 14ms/step\n",
      "Epoch 12/20\n",
      "469/469 - 7s - loss: 0.0215 - accuracy: 0.9928 - val_loss: 0.0798 - val_accuracy: 0.9786 - 7s/epoch - 15ms/step\n",
      "Epoch 13/20\n",
      "469/469 - 6s - loss: 0.0226 - accuracy: 0.9925 - val_loss: 0.0784 - val_accuracy: 0.9807 - 6s/epoch - 14ms/step\n",
      "Epoch 14/20\n",
      "469/469 - 5s - loss: 0.0183 - accuracy: 0.9937 - val_loss: 0.0686 - val_accuracy: 0.9836 - 5s/epoch - 11ms/step\n",
      "Epoch 15/20\n",
      "469/469 - 5s - loss: 0.0160 - accuracy: 0.9945 - val_loss: 0.0692 - val_accuracy: 0.9831 - 5s/epoch - 10ms/step\n",
      "Epoch 16/20\n",
      "469/469 - 5s - loss: 0.0162 - accuracy: 0.9947 - val_loss: 0.0818 - val_accuracy: 0.9815 - 5s/epoch - 10ms/step\n",
      "Epoch 17/20\n",
      "469/469 - 5s - loss: 0.0180 - accuracy: 0.9942 - val_loss: 0.0712 - val_accuracy: 0.9832 - 5s/epoch - 10ms/step\n",
      "Epoch 18/20\n",
      "469/469 - 5s - loss: 0.0138 - accuracy: 0.9954 - val_loss: 0.0841 - val_accuracy: 0.9821 - 5s/epoch - 10ms/step\n",
      "Epoch 19/20\n",
      "469/469 - 5s - loss: 0.0165 - accuracy: 0.9946 - val_loss: 0.0918 - val_accuracy: 0.9822 - 5s/epoch - 10ms/step\n",
      "Epoch 20/20\n",
      "469/469 - 5s - loss: 0.0144 - accuracy: 0.9951 - val_loss: 0.0784 - val_accuracy: 0.9846 - 5s/epoch - 10ms/step\n",
      "Saved trained model at /results/keras_mnist.h5 \n"
     ]
    }
   ],
   "source": [
    "# training the model and saving metrics in history\n",
    "history = model.fit(X_train, Y_train,\n",
    "          batch_size=128, epochs=20,\n",
    "          verbose=2,\n",
    "          validation_data=(X_test, Y_test))\n",
    "\n",
    "# saving the model\n",
    "save_dir = \"/results/\"\n",
    "model_name = 'keras_mnist.h5'\n",
    "model_path = os.path.join(save_dir, model_name)\n",
    "model.save(model_path)\n",
    "print('Saved trained model at %s ' % model_path)\n",
    "\n",
    "\n"
   ]
  },
  {
   "cell_type": "code",
   "execution_count": 11,
   "metadata": {},
   "outputs": [
    {
     "data": {
      "image/png": "[encoded data removed]",
      "text/plain": [
       "<Figure size 432x288 with 2 Axes>"
      ]
     },
     "metadata": {
      "needs_background": "dark"
     },
     "output_type": "display_data"
    }
   ],
   "source": [
    "# plotting the metrics\n",
    "fig = plt.figure()\n",
    "plt.subplot(2,1,1)\n",
    "plt.plot(history.history['accuracy'])\n",
    "plt.plot(history.history['val_accuracy'])\n",
    "plt.title('model accuracy', color ='white')\n",
    "plt.ylabel('accuracy', color ='white')\n",
    "plt.xlabel('epoch', color ='white')\n",
    "plt.legend(['train', 'test'], loc='lower right')\n",
    "plt.tick_params(colors='white', which='both')\n",
    "\n",
    "plt.subplot(2,1,2)\n",
    "plt.plot(history.history['loss'])\n",
    "plt.plot(history.history['val_loss'])\n",
    "plt.title('model loss', color ='white')\n",
    "plt.ylabel('loss', color ='white')\n",
    "plt.xlabel('epoch', color ='white')\n",
    "plt.legend(['train', 'test'], loc='upper right')\n",
    "plt.tick_params(colors='white', which='both')\n",
    "\n",
    "plt.tight_layout()\n",
    "\n",
    "#fig"
   ]
  },
  {
   "cell_type": "code",
   "execution_count": 12,
   "metadata": {},
   "outputs": [
    {
     "name": "stdout",
     "output_type": "stream",
     "text": [
      "313/313 - 1s - loss: 0.0784 - accuracy: 0.9846 - 825ms/epoch - 3ms/step\n",
      "Test Loss 0.07839569449424744\n",
      "Test Accuracy 0.9846000075340271\n"
     ]
    }
   ],
   "source": [
    "mnist_model = load_model('/results/keras_mnist.h5 ')\n",
    "loss_and_metrics = mnist_model.evaluate(X_test, Y_test, verbose=2)\n",
    "\n",
    "print(\"Test Loss\", loss_and_metrics[0])\n",
    "print(\"Test Accuracy\", loss_and_metrics[1])"
   ]
  },
  {
   "cell_type": "markdown",
   "metadata": {},
   "source": [
    "A fenti kódot [innen](https://nextjournal.com/gkoehler/digit-recognition-with-keras) másoltam, a továbbiakban ennek a paramétereit változtatom."
   ]
  },
  {
   "cell_type": "code",
   "execution_count": 18,
   "metadata": {},
   "outputs": [],
   "source": [
    "model = Sequential()\n",
    "model.add(Dense(512, input_shape=(784,)))\n",
    "model.add(Activation('relu'))                            \n",
    "model.add(Dropout(0.2))\n",
    "\n",
    "model.add(Dense(512))\n",
    "model.add(Activation('relu'))\n",
    "model.add(Dropout(0.2))\n",
    "\n",
    "model.add(Dense(10))\n",
    "model.add(Activation('softmax'))"
   ]
  },
  {
   "cell_type": "code",
   "execution_count": 19,
   "metadata": {},
   "outputs": [],
   "source": [
    "model.compile(loss='categorical_crossentropy', metrics=['accuracy'], optimizer='adam')"
   ]
  },
  {
   "cell_type": "code",
   "execution_count": 20,
   "metadata": {},
   "outputs": [
    {
     "name": "stdout",
     "output_type": "stream",
     "text": [
      "Epoch 1/10\n",
      "938/938 - 9s - loss: 0.2229 - accuracy: 0.9320 - val_loss: 0.1080 - val_accuracy: 0.9668 - 9s/epoch - 10ms/step\n",
      "Epoch 2/10\n",
      "938/938 - 11s - loss: 0.1006 - accuracy: 0.9686 - val_loss: 0.0783 - val_accuracy: 0.9749 - 11s/epoch - 11ms/step\n",
      "Epoch 3/10\n",
      "938/938 - 11s - loss: 0.0728 - accuracy: 0.9769 - val_loss: 0.0865 - val_accuracy: 0.9729 - 11s/epoch - 12ms/step\n",
      "Epoch 4/10\n",
      "938/938 - 10s - loss: 0.0593 - accuracy: 0.9811 - val_loss: 0.0757 - val_accuracy: 0.9796 - 10s/epoch - 10ms/step\n",
      "Epoch 5/10\n",
      "938/938 - 10s - loss: 0.0505 - accuracy: 0.9833 - val_loss: 0.0671 - val_accuracy: 0.9804 - 10s/epoch - 11ms/step\n",
      "Epoch 6/10\n",
      "938/938 - 8s - loss: 0.0427 - accuracy: 0.9861 - val_loss: 0.0675 - val_accuracy: 0.9822 - 8s/epoch - 9ms/step\n",
      "Epoch 7/10\n",
      "938/938 - 8s - loss: 0.0394 - accuracy: 0.9872 - val_loss: 0.0674 - val_accuracy: 0.9818 - 8s/epoch - 9ms/step\n",
      "Epoch 8/10\n",
      "938/938 - 9s - loss: 0.0342 - accuracy: 0.9885 - val_loss: 0.0712 - val_accuracy: 0.9811 - 9s/epoch - 9ms/step\n",
      "Epoch 9/10\n",
      "938/938 - 8s - loss: 0.0315 - accuracy: 0.9899 - val_loss: 0.0756 - val_accuracy: 0.9794 - 8s/epoch - 8ms/step\n",
      "Epoch 10/10\n",
      "938/938 - 7s - loss: 0.0287 - accuracy: 0.9902 - val_loss: 0.0727 - val_accuracy: 0.9824 - 7s/epoch - 8ms/step\n",
      "Saved trained model at /results/keras_mnist.h5 \n"
     ]
    }
   ],
   "source": [
    "history = model.fit(X_train, Y_train,\n",
    "          batch_size=64, epochs=10,\n",
    "          verbose=2,\n",
    "          validation_data=(X_test, Y_test))\n",
    "\n",
    "# saving the model\n",
    "save_dir = \"/results/\"\n",
    "model_name = 'keras_mnist.h5'\n",
    "model_path = os.path.join(save_dir, model_name)\n",
    "model.save(model_path)\n",
    "print('Saved trained model at %s ' % model_path)\n"
   ]
  },
  {
   "cell_type": "code",
   "execution_count": 21,
   "metadata": {},
   "outputs": [
    {
     "data": {
      "image/png": "[encoded data removed]",
      "text/plain": [
       "<Figure size 432x288 with 2 Axes>"
      ]
     },
     "metadata": {
      "needs_background": "dark"
     },
     "output_type": "display_data"
    }
   ],
   "source": [
    "# plotting the metrics\n",
    "fig = plt.figure()\n",
    "plt.subplot(2,1,1)\n",
    "plt.plot(history.history['accuracy'])\n",
    "plt.plot(history.history['val_accuracy'])\n",
    "plt.title('model accuracy', color ='white')\n",
    "plt.ylabel('accuracy', color ='white')\n",
    "plt.xlabel('epoch', color ='white')\n",
    "plt.legend(['train', 'test'], loc='lower right')\n",
    "plt.tick_params(colors='white', which='both')\n",
    "\n",
    "plt.subplot(2,1,2)\n",
    "plt.plot(history.history['loss'])\n",
    "plt.plot(history.history['val_loss'])\n",
    "plt.title('model loss', color ='white')\n",
    "plt.ylabel('loss', color ='white')\n",
    "plt.xlabel('epoch', color ='white')\n",
    "plt.legend(['train', 'test'], loc='upper right')\n",
    "plt.tick_params(colors='white', which='both')\n",
    "\n",
    "plt.tight_layout()"
   ]
  },
  {
   "cell_type": "code",
   "execution_count": 22,
   "metadata": {},
   "outputs": [
    {
     "name": "stdout",
     "output_type": "stream",
     "text": [
      "313/313 - 1s - loss: 0.0727 - accuracy: 0.9824 - 1s/epoch - 4ms/step\n",
      "Test Loss 0.07271850109100342\n",
      "Test Accuracy 0.9824000000953674\n"
     ]
    }
   ],
   "source": [
    "mnist_model = load_model('/results/keras_mnist.h5 ')\n",
    "loss_and_metrics = mnist_model.evaluate(X_test, Y_test, verbose=2)\n",
    "\n",
    "print(\"Test Loss\", loss_and_metrics[0])\n",
    "print(\"Test Accuracy\", loss_and_metrics[1])"
   ]
  },
  {
   "cell_type": "markdown",
   "metadata": {},
   "source": [
    "A batch size-ot, és az epoch-ot is a felére vettem. A tanulási folyamat nem lett sokkal gyorsabb, ellenben egy kicsit pontatlanabb eredményt kaptunk. Ennek oka, hogy habár a nagyobb batch size-zal elvileg pontosabb adatokat kapnánk, csak 10 epoch-ot futtatunk, így az eredmény pontatlanabb."
   ]
  },
  {
   "cell_type": "code",
   "execution_count": 27,
   "metadata": {},
   "outputs": [],
   "source": [
    "model = Sequential()\n",
    "model.add(Dense(512, input_shape=(784,)))\n",
    "model.add(Activation('relu'))                            \n",
    "model.add(Dropout(0.2))\n",
    "\n",
    "model.add(Dense(512))\n",
    "model.add(Activation('relu'))\n",
    "model.add(Dropout(0.2))\n",
    "\n",
    "model.add(Dense(512))\n",
    "model.add(Activation('relu'))\n",
    "model.add(Dropout(0.2))\n",
    "\n",
    "model.add(Dense(512))\n",
    "model.add(Activation('relu'))\n",
    "model.add(Dropout(0.2))\n",
    "\n",
    "model.add(Dense(512))\n",
    "model.add(Activation('relu'))\n",
    "model.add(Dropout(0.2))\n",
    "\n",
    "model.add(Dense(10))\n",
    "model.add(Activation('softmax'))"
   ]
  },
  {
   "cell_type": "code",
   "execution_count": 28,
   "metadata": {},
   "outputs": [],
   "source": [
    "model.compile(loss='categorical_crossentropy', metrics=['accuracy'], optimizer='adam')"
   ]
  },
  {
   "cell_type": "code",
   "execution_count": 29,
   "metadata": {},
   "outputs": [
    {
     "name": "stdout",
     "output_type": "stream",
     "text": [
      "Epoch 1/20\n",
      "469/469 - 15s - loss: 0.3011 - accuracy: 0.9062 - val_loss: 0.1459 - val_accuracy: 0.9570 - 15s/epoch - 31ms/step\n",
      "Epoch 2/20\n",
      "469/469 - 13s - loss: 0.1329 - accuracy: 0.9609 - val_loss: 0.1025 - val_accuracy: 0.9686 - 13s/epoch - 28ms/step\n",
      "Epoch 3/20\n",
      "469/469 - 14s - loss: 0.0982 - accuracy: 0.9712 - val_loss: 0.1021 - val_accuracy: 0.9707 - 14s/epoch - 30ms/step\n",
      "Epoch 4/20\n",
      "469/469 - 12s - loss: 0.0842 - accuracy: 0.9757 - val_loss: 0.0816 - val_accuracy: 0.9775 - 12s/epoch - 26ms/step\n",
      "Epoch 5/20\n",
      "469/469 - 13s - loss: 0.0679 - accuracy: 0.9805 - val_loss: 0.0770 - val_accuracy: 0.9796 - 13s/epoch - 27ms/step\n",
      "Epoch 6/20\n",
      "469/469 - 13s - loss: 0.0642 - accuracy: 0.9811 - val_loss: 0.0884 - val_accuracy: 0.9774 - 13s/epoch - 29ms/step\n",
      "Epoch 7/20\n",
      "469/469 - 15s - loss: 0.0554 - accuracy: 0.9839 - val_loss: 0.0768 - val_accuracy: 0.9804 - 15s/epoch - 31ms/step\n",
      "Epoch 8/20\n",
      "469/469 - 12s - loss: 0.0516 - accuracy: 0.9851 - val_loss: 0.0825 - val_accuracy: 0.9818 - 12s/epoch - 26ms/step\n",
      "Epoch 9/20\n",
      "469/469 - 12s - loss: 0.0481 - accuracy: 0.9862 - val_loss: 0.0731 - val_accuracy: 0.9814 - 12s/epoch - 26ms/step\n",
      "Epoch 10/20\n",
      "469/469 - 13s - loss: 0.0463 - accuracy: 0.9866 - val_loss: 0.0813 - val_accuracy: 0.9812 - 13s/epoch - 28ms/step\n",
      "Epoch 11/20\n",
      "469/469 - 15s - loss: 0.0440 - accuracy: 0.9874 - val_loss: 0.0866 - val_accuracy: 0.9802 - 15s/epoch - 32ms/step\n",
      "Epoch 12/20\n",
      "469/469 - 16s - loss: 0.0402 - accuracy: 0.9883 - val_loss: 0.0841 - val_accuracy: 0.9819 - 16s/epoch - 33ms/step\n",
      "Epoch 13/20\n",
      "469/469 - 14s - loss: 0.0352 - accuracy: 0.9892 - val_loss: 0.0935 - val_accuracy: 0.9801 - 14s/epoch - 29ms/step\n",
      "Epoch 14/20\n",
      "469/469 - 13s - loss: 0.0364 - accuracy: 0.9897 - val_loss: 0.0870 - val_accuracy: 0.9836 - 13s/epoch - 28ms/step\n",
      "Epoch 15/20\n",
      "469/469 - 15s - loss: 0.0354 - accuracy: 0.9894 - val_loss: 0.0929 - val_accuracy: 0.9819 - 15s/epoch - 32ms/step\n",
      "Epoch 16/20\n",
      "469/469 - 14s - loss: 0.0325 - accuracy: 0.9917 - val_loss: 0.1006 - val_accuracy: 0.9786 - 14s/epoch - 31ms/step\n",
      "Epoch 17/20\n",
      "469/469 - 15s - loss: 0.0358 - accuracy: 0.9901 - val_loss: 0.1059 - val_accuracy: 0.9800 - 15s/epoch - 31ms/step\n",
      "Epoch 18/20\n",
      "469/469 - 15s - loss: 0.0283 - accuracy: 0.9918 - val_loss: 0.0881 - val_accuracy: 0.9805 - 15s/epoch - 32ms/step\n",
      "Epoch 19/20\n",
      "469/469 - 14s - loss: 0.0306 - accuracy: 0.9916 - val_loss: 0.0963 - val_accuracy: 0.9812 - 14s/epoch - 30ms/step\n",
      "Epoch 20/20\n",
      "469/469 - 13s - loss: 0.0261 - accuracy: 0.9928 - val_loss: 0.0971 - val_accuracy: 0.9797 - 13s/epoch - 27ms/step\n",
      "Saved trained model at /results/keras_mnist.h5 \n"
     ]
    }
   ],
   "source": [
    "history = model.fit(X_train, Y_train,\n",
    "          batch_size=128, epochs=20,\n",
    "          verbose=2,\n",
    "          validation_data=(X_test, Y_test))\n",
    "\n",
    "# saving the model\n",
    "save_dir = \"/results/\"\n",
    "model_name = 'keras_mnist.h5'\n",
    "model_path = os.path.join(save_dir, model_name)\n",
    "model.save(model_path)\n",
    "print('Saved trained model at %s ' % model_path)\n"
   ]
  },
  {
   "cell_type": "code",
   "execution_count": 30,
   "metadata": {},
   "outputs": [
    {
     "data": {
      "image/png": "[encoded data removed]",
      "text/plain": [
       "<Figure size 432x288 with 2 Axes>"
      ]
     },
     "metadata": {
      "needs_background": "dark"
     },
     "output_type": "display_data"
    }
   ],
   "source": [
    "# plotting the metrics\n",
    "fig = plt.figure()\n",
    "plt.subplot(2,1,1)\n",
    "plt.plot(history.history['accuracy'])\n",
    "plt.plot(history.history['val_accuracy'])\n",
    "plt.title('model accuracy', color ='white')\n",
    "plt.ylabel('accuracy', color ='white')\n",
    "plt.xlabel('epoch', color ='white')\n",
    "plt.legend(['train', 'test'], loc='lower right')\n",
    "plt.tick_params(colors='white', which='both')\n",
    "\n",
    "plt.subplot(2,1,2)\n",
    "plt.plot(history.history['loss'])\n",
    "plt.plot(history.history['val_loss'])\n",
    "plt.title('model loss', color ='white')\n",
    "plt.ylabel('loss', color ='white')\n",
    "plt.xlabel('epoch', color ='white')\n",
    "plt.legend(['train', 'test'], loc='upper right')\n",
    "plt.tick_params(colors='white', which='both')\n",
    "\n",
    "plt.tight_layout()"
   ]
  },
  {
   "cell_type": "code",
   "execution_count": 31,
   "metadata": {},
   "outputs": [
    {
     "name": "stdout",
     "output_type": "stream",
     "text": [
      "313/313 - 3s - loss: 0.0971 - accuracy: 0.9797 - 3s/epoch - 11ms/step\n",
      "Test Loss 0.09707126766443253\n",
      "Test Accuracy 0.9797000288963318\n"
     ]
    }
   ],
   "source": [
    "mnist_model = load_model('/results/keras_mnist.h5 ')\n",
    "loss_and_metrics = mnist_model.evaluate(X_test, Y_test, verbose=2)\n",
    "\n",
    "print(\"Test Loss\", loss_and_metrics[0])\n",
    "print(\"Test Accuracy\", loss_and_metrics[1])"
   ]
  },
  {
   "cell_type": "markdown",
   "metadata": {},
   "source": [
    "Ebben a verzióban 3 új, egyforma réteget adtam a modellhez. Ekkor a tanulási idő jelentősen megnőtt, és valamivel pontosabb eredményt is kaptunk. Ennek oka, hogy a plusz rétegekkel még több feature-t tudunk kiemelni, viszont fennáll az overfitting esélye."
   ]
  },
  {
   "cell_type": "code",
   "execution_count": 32,
   "metadata": {},
   "outputs": [],
   "source": [
    "# building a linear stack of layers with the sequential model\n",
    "model = Sequential()\n",
    "model.add(Dense(512, input_shape=(784,)))\n",
    "model.add(Activation('elu'))                            \n",
    "model.add(Dropout(0.2))\n",
    "\n",
    "model.add(Dense(512))\n",
    "model.add(Activation('elu'))\n",
    "model.add(Dropout(0.2))\n",
    "\n",
    "model.add(Dense(10))\n",
    "model.add(Activation('softmax'))"
   ]
  },
  {
   "cell_type": "code",
   "execution_count": 33,
   "metadata": {},
   "outputs": [],
   "source": [
    "model.compile(loss='categorical_crossentropy', metrics=['accuracy'], optimizer='adam')"
   ]
  },
  {
   "cell_type": "code",
   "execution_count": 34,
   "metadata": {},
   "outputs": [
    {
     "name": "stdout",
     "output_type": "stream",
     "text": [
      "Epoch 1/20\n",
      "469/469 - 8s - loss: 0.3155 - accuracy: 0.9053 - val_loss: 0.1608 - val_accuracy: 0.9500 - 8s/epoch - 16ms/step\n",
      "Epoch 2/20\n",
      "469/469 - 7s - loss: 0.1604 - accuracy: 0.9510 - val_loss: 0.1186 - val_accuracy: 0.9616 - 7s/epoch - 16ms/step\n",
      "Epoch 3/20\n",
      "469/469 - 6s - loss: 0.1150 - accuracy: 0.9636 - val_loss: 0.0892 - val_accuracy: 0.9718 - 6s/epoch - 12ms/step\n",
      "Epoch 4/20\n",
      "469/469 - 6s - loss: 0.0921 - accuracy: 0.9709 - val_loss: 0.0968 - val_accuracy: 0.9701 - 6s/epoch - 13ms/step\n",
      "Epoch 5/20\n",
      "469/469 - 5s - loss: 0.0795 - accuracy: 0.9741 - val_loss: 0.0818 - val_accuracy: 0.9757 - 5s/epoch - 12ms/step\n",
      "Epoch 6/20\n",
      "469/469 - 7s - loss: 0.0709 - accuracy: 0.9774 - val_loss: 0.0722 - val_accuracy: 0.9784 - 7s/epoch - 14ms/step\n",
      "Epoch 7/20\n",
      "469/469 - 7s - loss: 0.0613 - accuracy: 0.9801 - val_loss: 0.0889 - val_accuracy: 0.9746 - 7s/epoch - 15ms/step\n",
      "Epoch 8/20\n",
      "469/469 - 7s - loss: 0.0561 - accuracy: 0.9819 - val_loss: 0.0715 - val_accuracy: 0.9772 - 7s/epoch - 14ms/step\n",
      "Epoch 9/20\n",
      "469/469 - 5s - loss: 0.0486 - accuracy: 0.9837 - val_loss: 0.0763 - val_accuracy: 0.9788 - 5s/epoch - 12ms/step\n",
      "Epoch 10/20\n",
      "469/469 - 7s - loss: 0.0481 - accuracy: 0.9841 - val_loss: 0.0874 - val_accuracy: 0.9768 - 7s/epoch - 16ms/step\n",
      "Epoch 11/20\n",
      "469/469 - 7s - loss: 0.0415 - accuracy: 0.9863 - val_loss: 0.0805 - val_accuracy: 0.9769 - 7s/epoch - 15ms/step\n",
      "Epoch 12/20\n",
      "469/469 - 7s - loss: 0.0396 - accuracy: 0.9874 - val_loss: 0.0844 - val_accuracy: 0.9783 - 7s/epoch - 14ms/step\n",
      "Epoch 13/20\n",
      "469/469 - 6s - loss: 0.0371 - accuracy: 0.9878 - val_loss: 0.0880 - val_accuracy: 0.9774 - 6s/epoch - 13ms/step\n",
      "Epoch 14/20\n",
      "469/469 - 7s - loss: 0.0320 - accuracy: 0.9894 - val_loss: 0.0919 - val_accuracy: 0.9771 - 7s/epoch - 16ms/step\n",
      "Epoch 15/20\n",
      "469/469 - 7s - loss: 0.0314 - accuracy: 0.9897 - val_loss: 0.0971 - val_accuracy: 0.9789 - 7s/epoch - 14ms/step\n",
      "Epoch 16/20\n",
      "469/469 - 6s - loss: 0.0321 - accuracy: 0.9892 - val_loss: 0.0970 - val_accuracy: 0.9784 - 6s/epoch - 13ms/step\n",
      "Epoch 17/20\n",
      "469/469 - 7s - loss: 0.0294 - accuracy: 0.9904 - val_loss: 0.1066 - val_accuracy: 0.9777 - 7s/epoch - 14ms/step\n",
      "Epoch 18/20\n",
      "469/469 - 5s - loss: 0.0300 - accuracy: 0.9908 - val_loss: 0.1052 - val_accuracy: 0.9773 - 5s/epoch - 11ms/step\n",
      "Epoch 19/20\n",
      "469/469 - 6s - loss: 0.0254 - accuracy: 0.9919 - val_loss: 0.1007 - val_accuracy: 0.9797 - 6s/epoch - 12ms/step\n",
      "Epoch 20/20\n",
      "469/469 - 5s - loss: 0.0261 - accuracy: 0.9920 - val_loss: 0.1179 - val_accuracy: 0.9779 - 5s/epoch - 11ms/step\n",
      "Saved trained model at /results/keras_mnist.h5 \n"
     ]
    }
   ],
   "source": [
    "history = model.fit(X_train, Y_train,\n",
    "          batch_size=128, epochs=20,\n",
    "          verbose=2,\n",
    "          validation_data=(X_test, Y_test))\n",
    "\n",
    "# saving the model\n",
    "save_dir = \"/results/\"\n",
    "model_name = 'keras_mnist.h5'\n",
    "model_path = os.path.join(save_dir, model_name)\n",
    "model.save(model_path)\n",
    "print('Saved trained model at %s ' % model_path)\n"
   ]
  },
  {
   "cell_type": "code",
   "execution_count": 35,
   "metadata": {},
   "outputs": [
    {
     "data": {
      "image/png": "[encoded data removed]",
      "text/plain": [
       "<Figure size 432x288 with 2 Axes>"
      ]
     },
     "metadata": {
      "needs_background": "dark"
     },
     "output_type": "display_data"
    }
   ],
   "source": [
    "# plotting the metrics\n",
    "fig = plt.figure()\n",
    "plt.subplot(2,1,1)\n",
    "plt.plot(history.history['accuracy'])\n",
    "plt.plot(history.history['val_accuracy'])\n",
    "plt.title('model accuracy', color ='white')\n",
    "plt.ylabel('accuracy', color ='white')\n",
    "plt.xlabel('epoch', color ='white')\n",
    "plt.legend(['train', 'test'], loc='lower right')\n",
    "plt.tick_params(colors='white', which='both')\n",
    "\n",
    "plt.subplot(2,1,2)\n",
    "plt.plot(history.history['loss'])\n",
    "plt.plot(history.history['val_loss'])\n",
    "plt.title('model loss', color ='white')\n",
    "plt.ylabel('loss', color ='white')\n",
    "plt.xlabel('epoch', color ='white')\n",
    "plt.legend(['train', 'test'], loc='upper right')\n",
    "plt.tick_params(colors='white', which='both')\n",
    "\n",
    "plt.tight_layout()"
   ]
  },
  {
   "cell_type": "code",
   "execution_count": 36,
   "metadata": {},
   "outputs": [
    {
     "name": "stdout",
     "output_type": "stream",
     "text": [
      "313/313 - 1s - loss: 0.1179 - accuracy: 0.9779 - 1s/epoch - 4ms/step\n",
      "Test Loss 0.11791828274726868\n",
      "Test Accuracy 0.9779000282287598\n"
     ]
    }
   ],
   "source": [
    "mnist_model = load_model('/results/keras_mnist.h5 ')\n",
    "loss_and_metrics = mnist_model.evaluate(X_test, Y_test, verbose=2)\n",
    "\n",
    "print(\"Test Loss\", loss_and_metrics[0])\n",
    "print(\"Test Accuracy\", loss_and_metrics[1])"
   ]
  },
  {
   "cell_type": "markdown",
   "metadata": {},
   "source": [
    "Ebben a változatban az aktivációs függvényt kicseréltem ELU-ra. Ekkor a futási idő jelentősen megnőtt, az ELU-ban található exponenciális miatt, ráadásul a pontosság sem nőtt a RELU-s változathoz képest. Ennek oka, hogy ehhez a problémához nem az ELU passzol."
   ]
  },
  {
   "cell_type": "code",
   "execution_count": 37,
   "metadata": {},
   "outputs": [],
   "source": [
    "# building a linear stack of layers with the sequential model\n",
    "model = Sequential()\n",
    "model.add(Dense(512, input_shape=(784,)))\n",
    "model.add(Activation('relu'))                            \n",
    "model.add(Dropout(0.2))\n",
    "\n",
    "model.add(Dense(512))\n",
    "model.add(Activation('relu'))\n",
    "model.add(Dropout(0.2))\n",
    "\n",
    "model.add(Dense(10))\n",
    "model.add(Activation('softmax'))"
   ]
  },
  {
   "cell_type": "code",
   "execution_count": 40,
   "metadata": {},
   "outputs": [],
   "source": [
    "model.compile(loss='categorical_crossentropy', metrics=['accuracy'], optimizer='SGD')"
   ]
  },
  {
   "cell_type": "code",
   "execution_count": 43,
   "metadata": {},
   "outputs": [
    {
     "name": "stdout",
     "output_type": "stream",
     "text": [
      "Epoch 1/20\n",
      "469/469 - 5s - loss: 0.1705 - accuracy: 0.9508 - val_loss: 0.1418 - val_accuracy: 0.9566 - 5s/epoch - 11ms/step\n",
      "Epoch 2/20\n",
      "469/469 - 4s - loss: 0.1676 - accuracy: 0.9516 - val_loss: 0.1384 - val_accuracy: 0.9585 - 4s/epoch - 9ms/step\n",
      "Epoch 3/20\n",
      "469/469 - 4s - loss: 0.1610 - accuracy: 0.9530 - val_loss: 0.1348 - val_accuracy: 0.9601 - 4s/epoch - 9ms/step\n",
      "Epoch 4/20\n",
      "469/469 - 4s - loss: 0.1557 - accuracy: 0.9551 - val_loss: 0.1315 - val_accuracy: 0.9602 - 4s/epoch - 9ms/step\n",
      "Epoch 5/20\n",
      "469/469 - 4s - loss: 0.1526 - accuracy: 0.9553 - val_loss: 0.1283 - val_accuracy: 0.9613 - 4s/epoch - 9ms/step\n",
      "Epoch 6/20\n",
      "469/469 - 4s - loss: 0.1490 - accuracy: 0.9571 - val_loss: 0.1265 - val_accuracy: 0.9616 - 4s/epoch - 9ms/step\n",
      "Epoch 7/20\n",
      "469/469 - 4s - loss: 0.1453 - accuracy: 0.9578 - val_loss: 0.1236 - val_accuracy: 0.9623 - 4s/epoch - 9ms/step\n",
      "Epoch 8/20\n",
      "469/469 - 4s - loss: 0.1441 - accuracy: 0.9583 - val_loss: 0.1211 - val_accuracy: 0.9632 - 4s/epoch - 9ms/step\n",
      "Epoch 9/20\n",
      "469/469 - 4s - loss: 0.1386 - accuracy: 0.9592 - val_loss: 0.1186 - val_accuracy: 0.9641 - 4s/epoch - 9ms/step\n",
      "Epoch 10/20\n",
      "469/469 - 4s - loss: 0.1360 - accuracy: 0.9600 - val_loss: 0.1166 - val_accuracy: 0.9636 - 4s/epoch - 9ms/step\n",
      "Epoch 11/20\n",
      "469/469 - 4s - loss: 0.1344 - accuracy: 0.9606 - val_loss: 0.1141 - val_accuracy: 0.9649 - 4s/epoch - 9ms/step\n",
      "Epoch 12/20\n",
      "469/469 - 4s - loss: 0.1306 - accuracy: 0.9622 - val_loss: 0.1126 - val_accuracy: 0.9657 - 4s/epoch - 9ms/step\n",
      "Epoch 13/20\n",
      "469/469 - 4s - loss: 0.1279 - accuracy: 0.9626 - val_loss: 0.1109 - val_accuracy: 0.9660 - 4s/epoch - 9ms/step\n",
      "Epoch 14/20\n",
      "469/469 - 5s - loss: 0.1259 - accuracy: 0.9635 - val_loss: 0.1080 - val_accuracy: 0.9660 - 5s/epoch - 10ms/step\n",
      "Epoch 15/20\n",
      "469/469 - 5s - loss: 0.1219 - accuracy: 0.9650 - val_loss: 0.1067 - val_accuracy: 0.9668 - 5s/epoch - 10ms/step\n",
      "Epoch 16/20\n",
      "469/469 - 4s - loss: 0.1199 - accuracy: 0.9653 - val_loss: 0.1045 - val_accuracy: 0.9670 - 4s/epoch - 10ms/step\n",
      "Epoch 17/20\n",
      "469/469 - 4s - loss: 0.1171 - accuracy: 0.9662 - val_loss: 0.1027 - val_accuracy: 0.9689 - 4s/epoch - 9ms/step\n",
      "Epoch 18/20\n",
      "469/469 - 4s - loss: 0.1156 - accuracy: 0.9662 - val_loss: 0.1019 - val_accuracy: 0.9681 - 4s/epoch - 9ms/step\n",
      "Epoch 19/20\n",
      "469/469 - 4s - loss: 0.1126 - accuracy: 0.9677 - val_loss: 0.1008 - val_accuracy: 0.9685 - 4s/epoch - 9ms/step\n",
      "Epoch 20/20\n",
      "469/469 - 4s - loss: 0.1106 - accuracy: 0.9680 - val_loss: 0.0991 - val_accuracy: 0.9690 - 4s/epoch - 9ms/step\n",
      "Saved trained model at /results/keras_mnist.h5 \n"
     ]
    }
   ],
   "source": [
    "history = model.fit(X_train, Y_train,\n",
    "          batch_size=128, epochs=20,\n",
    "          verbose=2,\n",
    "          validation_data=(X_test, Y_test))\n",
    "\n",
    "# saving the model\n",
    "save_dir = \"/results/\"\n",
    "model_name = 'keras_mnist.h5'\n",
    "model_path = os.path.join(save_dir, model_name)\n",
    "model.save(model_path)\n",
    "print('Saved trained model at %s ' % model_path)"
   ]
  },
  {
   "cell_type": "code",
   "execution_count": 44,
   "metadata": {},
   "outputs": [
    {
     "data": {
      "image/png": "[encoded data removed]",
      "text/plain": [
       "<Figure size 432x288 with 2 Axes>"
      ]
     },
     "metadata": {
      "needs_background": "dark"
     },
     "output_type": "display_data"
    }
   ],
   "source": [
    "fig = plt.figure()\n",
    "plt.subplot(2,1,1)\n",
    "plt.plot(history.history['accuracy'])\n",
    "plt.plot(history.history['val_accuracy'])\n",
    "plt.title('model accuracy', color ='white')\n",
    "plt.ylabel('accuracy', color ='white')\n",
    "plt.xlabel('epoch', color ='white')\n",
    "plt.legend(['train', 'test'], loc='lower right')\n",
    "plt.tick_params(colors='white', which='both')\n",
    "\n",
    "plt.subplot(2,1,2)\n",
    "plt.plot(history.history['loss'])\n",
    "plt.plot(history.history['val_loss'])\n",
    "plt.title('model loss', color ='white')\n",
    "plt.ylabel('loss', color ='white')\n",
    "plt.xlabel('epoch', color ='white')\n",
    "plt.legend(['train', 'test'], loc='upper right')\n",
    "plt.tick_params(colors='white', which='both')\n",
    "\n",
    "plt.tight_layout()"
   ]
  },
  {
   "cell_type": "code",
   "execution_count": 45,
   "metadata": {},
   "outputs": [
    {
     "name": "stdout",
     "output_type": "stream",
     "text": [
      "313/313 - 2s - loss: 0.0991 - accuracy: 0.9690 - 2s/epoch - 6ms/step\n",
      "Test Loss 0.0991121307015419\n",
      "Test Accuracy 0.968999981880188\n"
     ]
    }
   ],
   "source": [
    "mnist_model = load_model('/results/keras_mnist.h5 ')\n",
    "loss_and_metrics = mnist_model.evaluate(X_test, Y_test, verbose=2)\n",
    "\n",
    "print(\"Test Loss\", loss_and_metrics[0])\n",
    "print(\"Test Accuracy\", loss_and_metrics[1])"
   ]
  },
  {
   "cell_type": "markdown",
   "metadata": {},
   "source": [
    "Ebben a változatban az optimizer-t adam helyett gradient descent-re változtattam. A futási időt lecsökkentettük ugyan, de vele együtt a pontosság is csökkent egy keveset. Ennek oka, hogy a gradient descent egy konstans learning rate-et használ, míg az adam adaptívat."
   ]
  },
  {
   "cell_type": "markdown",
   "metadata": {},
   "source": []
  }
 ],
 "metadata": {
  "kernelspec": {
   "display_name": "Python 3.9.13 64-bit (microsoft store)",
   "language": "python",
   "name": "python3"
  },
  "language_info": {
   "codemirror_mode": {
    "name": "ipython",
    "version": 3
   },
   "file_extension": ".py",
   "mimetype": "text/x-python",
   "name": "python",
   "nbconvert_exporter": "python",
   "pygments_lexer": "ipython3",
   "version": "3.9.13"
  },
  "orig_nbformat": 4,
  "vscode": {
   "interpreter": {
    "hash": "23b4a3e8622309bcc6db3d5cc6eb73d60ab98d9ec23bad6a26b709981ccb403a"
   }
  }
 },
 "nbformat": 4,
 "nbformat_minor": 2
}
